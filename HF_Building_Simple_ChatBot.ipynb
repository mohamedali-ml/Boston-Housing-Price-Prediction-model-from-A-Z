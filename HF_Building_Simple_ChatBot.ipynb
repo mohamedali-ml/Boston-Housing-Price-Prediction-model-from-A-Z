{
  "nbformat": 4,
  "nbformat_minor": 0,
  "metadata": {
    "colab": {
      "provenance": [],
      "authorship_tag": "ABX9TyO9qhvRWNapy5UBBlXMpVG4",
      "include_colab_link": true
    },
    "kernelspec": {
      "name": "python3",
      "display_name": "Python 3"
    },
    "language_info": {
      "name": "python"
    }
  },
  "cells": [
    {
      "cell_type": "markdown",
      "metadata": {
        "id": "view-in-github",
        "colab_type": "text"
      },
      "source": [
        "<a href=\"https://colab.research.google.com/github/mohamedali-ml/Boston-Housing-Price-Prediction-model-from-A-Z/blob/main/HF_Building_Simple_ChatBot.ipynb\" target=\"_parent\"><img src=\"https://colab.research.google.com/assets/colab-badge.svg\" alt=\"Open In Colab\"/></a>"
      ]
    },
    {
      "cell_type": "code",
      "execution_count": 1,
      "metadata": {
        "id": "ran0f6hMqmGm"
      },
      "outputs": [],
      "source": [
        "# Use a pipeline as a high-level helper\n",
        "from transformers import pipeline"
      ]
    },
    {
      "cell_type": "code",
      "source": [
        "chatbot = pipeline(\"text2text-generation\", model=\"facebook/blenderbot-400M-distill\")"
      ],
      "metadata": {
        "id": "Jwb-xXDdqqOg"
      },
      "execution_count": 3,
      "outputs": []
    },
    {
      "cell_type": "code",
      "source": [
        "user_message = \"Explain what is AI for Kid\"\n",
        "response = chatbot(user_message)\n",
        "print(response)"
      ],
      "metadata": {
        "colab": {
          "base_uri": "https://localhost:8080/"
        },
        "id": "5LbWlGR7qrv-",
        "outputId": "e0cca68a-e231-4e00-b2a0-36e175170cc7"
      },
      "execution_count": 7,
      "outputs": [
        {
          "output_type": "stream",
          "name": "stdout",
          "text": [
            "[{'generated_text': \" It's basically a robot that can do a variety of tasks for you. It's pretty cool.\"}]\n"
          ]
        }
      ]
    },
    {
      "cell_type": "code",
      "source": [
        "print(response[0]['generated_text'])"
      ],
      "metadata": {
        "colab": {
          "base_uri": "https://localhost:8080/"
        },
        "id": "3ILmQkALtsUz",
        "outputId": "a9c013c0-0e63-4f71-d21e-2b980fb7b112"
      },
      "execution_count": 8,
      "outputs": [
        {
          "output_type": "stream",
          "name": "stdout",
          "text": [
            " It's basically a robot that can do a variety of tasks for you. It's pretty cool.\n"
          ]
        }
      ]
    },
    {
      "cell_type": "code",
      "source": [
        "def add_message_response(history, new_message):\n",
        "    history.append({'role':'user', 'content':'new_message'})\n",
        "    full_conversation = \"\".join([message['content'] for message in history])\n",
        "    response = chatbot(full_conversation)\n",
        "    history.append({'role':'assistant', 'content':response[0]['generated_text']})\n",
        "    return response[0]['generated_text']"
      ],
      "metadata": {
        "id": "esy9VcKht5tO"
      },
      "execution_count": 9,
      "outputs": []
    },
    {
      "cell_type": "code",
      "source": [
        "from types import new_class\n",
        "conversation_history = []\n",
        "new_message = \"Explain what is Machine Learning for Kid\"\n",
        "response = add_message_response(conversation_history, new_message)\n",
        "print(response)"
      ],
      "metadata": {
        "colab": {
          "base_uri": "https://localhost:8080/"
        },
        "id": "-U421E6_wIfs",
        "outputId": "d3af91a2-0a2d-41cc-c183-1af7aaf4f840"
      },
      "execution_count": 11,
      "outputs": [
        {
          "output_type": "stream",
          "name": "stdout",
          "text": [
            " Have you ever heard of New Mesa? It's a group of people who live in New York City.\n"
          ]
        }
      ]
    },
    {
      "cell_type": "code",
      "source": [
        "conversation_history"
      ],
      "metadata": {
        "colab": {
          "base_uri": "https://localhost:8080/"
        },
        "id": "CpHy8Py5wYUc",
        "outputId": "6fd41666-f2b4-4bb7-87dc-579449c50686"
      },
      "execution_count": 12,
      "outputs": [
        {
          "output_type": "execute_result",
          "data": {
            "text/plain": [
              "[{'role': 'user', 'content': 'new_message'},\n",
              " {'role': 'assistant',\n",
              "  'content': \" Have you ever heard of New Mesa? It's a group of people who live in New York City.\"}]"
            ]
          },
          "metadata": {},
          "execution_count": 12
        }
      ]
    },
    {
      "cell_type": "code",
      "source": [
        "followup_message = \"How about Deep Learning?\"\n",
        "response = add_message_response(conversation_history, followup_message)\n",
        "print(response)"
      ],
      "metadata": {
        "colab": {
          "base_uri": "https://localhost:8080/"
        },
        "id": "c3zQHm3ywokf",
        "outputId": "4c958dcf-24a6-4fae-f930-05e33b4d8f17"
      },
      "execution_count": 13,
      "outputs": [
        {
          "output_type": "stream",
          "name": "stdout",
          "text": [
            " I have heard of it, but I've never been to New York. It's the most populous city in the United States.\n"
          ]
        }
      ]
    },
    {
      "cell_type": "code",
      "source": [],
      "metadata": {
        "id": "chNlrjdnw2R8"
      },
      "execution_count": null,
      "outputs": []
    }
  ]
}